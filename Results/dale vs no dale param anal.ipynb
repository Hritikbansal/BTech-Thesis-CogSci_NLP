{
 "cells": [
  {
   "cell_type": "code",
   "execution_count": 9,
   "metadata": {},
   "outputs": [],
   "source": [
    "import os \n",
    "import scipy.spatial.distance\n",
    "import pickle\n",
    "import numpy as np"
   ]
  },
  {
   "cell_type": "code",
   "execution_count": 10,
   "metadata": {},
   "outputs": [],
   "source": [
    "file = open(\"param_decay_fullGram.pkl\", 'rb')\n",
    "param_decay_fullGram = pickle.load(file)\n",
    "file2= open(\"param_nodale_decay_fullGram.pkl\", 'rb')\n",
    "param_nodale_decay_fullGram = pickle.load(file2)"
   ]
  },
  {
   "cell_type": "code",
   "execution_count": null,
   "metadata": {},
   "outputs": [],
   "source": []
  },
  {
   "cell_type": "code",
   "execution_count": 11,
   "metadata": {},
   "outputs": [
    {
     "name": "stdout",
     "output_type": "stream",
     "text": [
      "cell_0.rgate\n",
      "Cosine Distance : 0.0\n",
      "Eucledian dist: 0.0800255537033081\n",
      "cell_0.weight_ih\n",
      "Cosine Distance : 1.0186915788799524\n",
      "Eucledian dist: 70.35285949707031\n",
      "cell_0.weight_hh\n",
      "Cosine Distance : 1.0375901572406292\n",
      "Eucledian dist: 71.06529998779297\n",
      "cell_0.bias_ih\n",
      "Cosine Distance : 0.9316644296050072\n",
      "Eucledian dist: 11.669275283813477\n",
      "cell_0.bias_hh\n",
      "Cosine Distance : 0.9407327398657799\n",
      "Eucledian dist: 11.567117691040039\n",
      "linear.weight\n",
      "Cosine Distance : 1.2342605739831924\n",
      "Eucledian dist: 29.630569458007812\n",
      "linear.bias\n",
      "Cosine Distance : 0.008690595626831055\n",
      "Eucledian dist: 0.35450491309165955\n"
     ]
    }
   ],
   "source": [
    "for keys in param_decay_fullGram.keys():\n",
    "    if keys == \"embedding_layer.weight\" or keys==\"cell_0.d_rec\":\n",
    "        continue\n",
    "    print(keys)\n",
    "    u = param_decay_fullGram[keys].flatten()\n",
    "    w = param_nodale_decay_fullGram[keys].flatten()\n",
    "    dist_eucledian = scipy.spatial.distance.euclidean(u,w)\n",
    "    dist_cosine = scipy.spatial.distance.cosine(u,w)\n",
    "    print(\"Cosine Distance : {}\".format(dist_cosine))\n",
    "    print(\"Eucledian dist: {}\".format(dist_eucledian))    "
   ]
  },
  {
   "cell_type": "code",
   "execution_count": 12,
   "metadata": {},
   "outputs": [
    {
     "name": "stdout",
     "output_type": "stream",
     "text": [
      "cell_0.rgate\n",
      "()\n",
      "cell_0.weight_ih\n",
      "(50, 50)\n",
      "cell_0.weight_hh\n",
      "(50, 50)\n",
      "cell_0.bias_ih\n",
      "(50,)\n",
      "cell_0.bias_hh\n",
      "(50,)\n",
      "embedding_layer.weight\n",
      "(10179, 50)\n",
      "linear.weight\n",
      "(2, 50)\n",
      "linear.bias\n",
      "(2,)\n"
     ]
    }
   ],
   "source": [
    "for keys in param_nodale_decay_fullGram.keys():\n",
    "    print(keys)\n",
    "    print((param_decay_fullGram[keys]).shape)"
   ]
  },
  {
   "cell_type": "code",
   "execution_count": 14,
   "metadata": {},
   "outputs": [
    {
     "name": "stdout",
     "output_type": "stream",
     "text": [
      "cell_0.rgate\n",
      "norm dale : 0.8276854157447815\n",
      "norm no-dale : 0.9077109694480896\n",
      "cell_0.weight_ih\n",
      "norm dale : 55.67323684692383\n",
      "norm no-dale : 41.983768463134766\n",
      "cell_0.weight_hh\n",
      "norm dale : 36.236263275146484\n",
      "norm no-dale : 59.7857666015625\n",
      "cell_0.bias_ih\n",
      "norm dale : 10.15093994140625\n",
      "norm no-dale : 6.491219520568848\n",
      "cell_0.bias_hh\n",
      "norm dale : 9.973897933959961\n",
      "norm no-dale : 6.4791646003723145\n",
      "linear.weight\n",
      "norm dale : 15.81956958770752\n",
      "norm no-dale : 21.620874404907227\n",
      "linear.bias\n",
      "norm dale : 0.5901054739952087\n",
      "norm no-dale : 0.23907610774040222\n"
     ]
    }
   ],
   "source": [
    "for keys in param_decay_fullGram.keys():\n",
    "    if keys == \"embedding_layer.weight\" or keys==\"cell_0.d_rec\":\n",
    "        continue\n",
    "    u = param_decay_fullGram[keys].flatten()\n",
    "    w = param_nodale_decay_fullGram[keys].flatten()\n",
    "    print(keys)\n",
    "    print(\"norm dale : {}\".format(np.linalg.norm(u)))\n",
    "    print(\"norm no-dale : {}\".format(np.linalg.norm(w)))"
   ]
  },
  {
   "cell_type": "code",
   "execution_count": 18,
   "metadata": {},
   "outputs": [
    {
     "name": "stdout",
     "output_type": "stream",
     "text": [
      "(508950,)\n",
      "(508950,)\n",
      "norm dale : 1138.7796630859375\n",
      "norm no-dale : 921.1605224609375\n",
      "Cosine Distance : 0.008690595626831055\n",
      "Eucledian dist: 0.35450491309165955\n"
     ]
    }
   ],
   "source": [
    "for keys in param_decay_fullGram.keys():\n",
    "#     print(keys\n",
    "    if keys == \"embedding_layer.weight\":\n",
    "        u = param_decay_fullGram[keys].flatten()\n",
    "        w = param_nodale_decay_fullGram[keys].flatten()\n",
    "        print(u.shape)\n",
    "        print(w.shape)\n",
    "        print(\"norm dale : {}\".format(np.linalg.norm(u)))\n",
    "        print(\"norm no-dale : {}\".format(np.linalg.norm(w)))\n",
    "        print(\"Cosine Distance : {}\".format(dist_cosine))\n",
    "        print(\"Eucledian dist: {}\".format(dist_eucledian))  \n",
    "    else:\n",
    "        continue"
   ]
  },
  {
   "cell_type": "code",
   "execution_count": null,
   "metadata": {},
   "outputs": [],
   "source": []
  }
 ],
 "metadata": {
  "kernelspec": {
   "display_name": "Python [conda env:btpenv] *",
   "language": "python",
   "name": "conda-env-btpenv-py"
  },
  "language_info": {
   "codemirror_mode": {
    "name": "ipython",
    "version": 3
   },
   "file_extension": ".py",
   "mimetype": "text/x-python",
   "name": "python",
   "nbconvert_exporter": "python",
   "pygments_lexer": "ipython3",
   "version": "3.6.9"
  }
 },
 "nbformat": 4,
 "nbformat_minor": 2
}
