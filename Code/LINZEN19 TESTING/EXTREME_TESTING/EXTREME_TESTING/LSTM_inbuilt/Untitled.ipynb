{
 "cells": [
  {
   "cell_type": "code",
   "execution_count": 1,
   "metadata": {},
   "outputs": [],
   "source": [
    "import os \n"
   ]
  },
  {
   "cell_type": "code",
   "execution_count": 2,
   "metadata": {},
   "outputs": [],
   "source": [
    "root = \"C:\\\\Users\\\\Hp\\\\Desktop\\\\BTech-Thesis-CognitionInLanguage\\\\Code\\\\LINZEN19 TESTING\\\\EXTREME_TESTING\\\\EXTREME_TESTING\\\\LSTM_inbuilt\\\\src_lstm_gpu_batched\\\\logs\""
   ]
  },
  {
   "cell_type": "code",
   "execution_count": 3,
   "metadata": {},
   "outputs": [],
   "source": [
    "filename= os.path.join(root, \"result_output_log.txt\")"
   ]
  },
  {
   "cell_type": "code",
   "execution_count": 4,
   "metadata": {
    "scrolled": true
   },
   "outputs": [
    {
     "data": {
      "text/plain": [
       "[\"('obj_rel_no_comp_across_anim.pickle', 'sing_MS_MV_plur_ES_EV').pklAccuracy on 1890 example is 0.1312169312169312\\n\",\n",
       " \"('subj_rel.pickle', 'sing_MS_EV_MV_sing_ES').pklAccuracy on 2430 example is 0.19300411522633745\\n\",\n",
       " \"('obj_rel_within_inanim.pickle', 'plur_ES_EV_plur_IS_IV').pklAccuracy on 2520 example is 0.5067460317460317\\n\",\n",
       " \"('reflexive_sent_comp.pickle', 'plur_MS_ANPHR_plur_BS').pklAccuracy on 192 example is 0.3645833333333333\\n\",\n",
       " \"('sent_comp.pickle', 'plur_MS_MV_plur_BS').pklAccuracy on 216 example is 0.5370370370370371\\n\",\n",
       " \"('simple_reflexives.pickle', 'sing_MS_ANPHR').pklAccuracy on 80 example is 0.6125\\n\",\n",
       " \"('reflexives_across.pickle', 'plur_MS_ANPHR_plur_ES_EV').pklAccuracy on 1344 example is 0.4523809523809524\\n\",\n",
       " \"('prep_anim.pickle', 'plur_MS_MV_plur_ES').pklAccuracy on 3024 example is 0.6345899470899471\\n\",\n",
       " \"('obj_rel_no_comp_within_inanim.pickle', 'sing_ES_EV_sing_IS_IV').pklAccuracy on 3240 example is 0.7191358024691358\\n\",\n",
       " \"('prep_inanim.pickle', 'sing_IS_IV_plur_ES').pklAccuracy on 1680 example is 0.1744047619047619\\n\",\n",
       " \"('obj_rel_no_comp_across_inanim.pickle', 'plur_IS_IV_sing_ES_EV').pklAccuracy on 3240 example is 0.5830246913580247\\n\",\n",
       " \"('obj_rel_within_inanim.pickle', 'plur_ES_EV_sing_IS_IV').pklAccuracy on 2520 example is 0.2384920634920635\\n\",\n",
       " \"('prep_inanim.pickle', 'plur_IS_IV_plur_ES').pklAccuracy on 1680 example is 0.6976190476190476\\n\",\n",
       " \"('simple_reflexives.pickle', 'plur_MS_ANPHR').pklAccuracy on 64 example is 0.421875\\n\",\n",
       " \"('sent_comp.pickle', 'sing_MS_MV_sing_BS').pklAccuracy on 0 example is nan\\n\",\n",
       " \"('prep_anim.pickle', 'sing_MS_MV_plur_ES').pklAccuracy on 3780 example is 0.3246031746031746\\n\",\n",
       " \"('obj_rel_across_inanim.pickle', 'plur_IS_IV_plur_ES_EV').pklAccuracy on 2520 example is 0.8269841269841269\\n\",\n",
       " \"('obj_rel_across_anim.pickle', 'plur_MS_MV_sing_ES_EV').pklAccuracy on 1944 example is 0.5653292181069959\\n\",\n",
       " \"('obj_rel_no_comp_within_inanim.pickle', 'sing_ES_EV_plur_IS_IV').pklAccuracy on 3240 example is 0.5037037037037037\\n\",\n",
       " \"('subj_rel.pickle', 'plur_MS_EV_MV_plur_ES').pklAccuracy on 1512 example is 0.707010582010582\\n\",\n",
       " \"('obj_rel_within_anim.pickle', 'sing_ES_EV_sing_MS_MV').pklAccuracy on 2160 example is 0.749537037037037\\n\",\n",
       " \"('obj_rel_within_anim.pickle', 'sing_ES_EV_plur_MS_MV').pklAccuracy on 2160 example is 0.44537037037037036\\n\",\n",
       " \"('simple_agrmt.pickle', 'plur_MS_MV').pklAccuracy on 72 example is 0.5833333333333334\\n\",\n",
       " \"('obj_rel_across_anim.pickle', 'sing_MS_MV_plur_ES_EV').pklAccuracy on 1890 example is 0.1164021164021164\\n\",\n",
       " \"('obj_rel_no_comp_across_anim.pickle', 'plur_MS_MV_sing_ES_EV').pklAccuracy on 1944 example is 0.5699588477366255\\n\",\n",
       " \"('obj_rel_no_comp_across_anim.pickle', 'sing_MS_MV_sing_ES_EV').pklAccuracy on 2430 example is 0.38065843621399176\\n\",\n",
       " \"('obj_rel_across_inanim.pickle', 'plur_IS_IV_sing_ES_EV').pklAccuracy on 3240 example is 0.5398148148148149\\n\",\n",
       " \"('obj_rel_across_inanim.pickle', 'sing_IS_IV_sing_ES_EV').pklAccuracy on 3240 example is 0.4410493827160494\\n\",\n",
       " \"('obj_rel_no_comp_across_inanim.pickle', 'sing_IS_IV_sing_ES_EV').pklAccuracy on 3240 example is 0.4101851851851852\\n\",\n",
       " \"('prep_inanim.pickle', 'plur_IS_IV_sing_ES').pklAccuracy on 2160 example is 0.6671296296296296\\n\",\n",
       " \"('reflexives_across.pickle', 'sing_MS_ANPHR_sing_ES_EV').pklAccuracy on 2160 example is 0.5472222222222223\\n\",\n",
       " \"('prep_anim.pickle', 'plur_MS_MV_sing_ES').pklAccuracy on 3888 example is 0.6270576131687243\\n\",\n",
       " \"('obj_rel_no_comp_within_anim.pickle', 'plur_ES_EV_sing_MS_MV').pklAccuracy on 1680 example is 0.21726190476190477\\n\",\n",
       " \"('prep_anim.pickle', 'sing_MS_MV_sing_ES').pklAccuracy on 4860 example is 0.32613168724279834\\n\",\n",
       " \"('obj_rel_within_anim.pickle', 'plur_ES_EV_plur_MS_MV').pklAccuracy on 1680 example is 0.5380952380952381\\n\",\n",
       " \"('obj_rel_across_anim.pickle', 'sing_MS_MV_sing_ES_EV').pklAccuracy on 2430 example is 0.40781893004115227\\n\",\n",
       " \"('obj_rel_across_anim.pickle', 'plur_MS_MV_plur_ES_EV').pklAccuracy on 1512 example is 0.8703703703703703\\n\",\n",
       " \"('prep_inanim.pickle', 'sing_IS_IV_sing_ES').pklAccuracy on 2160 example is 0.21342592592592594\\n\",\n",
       " \"('reflexive_sent_comp.pickle', 'sing_MS_ANPHR_plur_BS').pklAccuracy on 240 example is 0.65\\n\",\n",
       " \"('simple_agrmt.pickle', 'sing_MS_MV').pklAccuracy on 90 example is 0.2\\n\",\n",
       " \"('obj_rel_no_comp_within_inanim.pickle', 'plur_ES_EV_plur_IS_IV').pklAccuracy on 2520 example is 0.476984126984127\\n\",\n",
       " \"('subj_rel.pickle', 'plur_MS_EV_MV_sing_ES').pklAccuracy on 1944 example is 0.6882716049382716\\n\",\n",
       " \"('obj_rel_within_inanim.pickle', 'sing_ES_EV_sing_IS_IV').pklAccuracy on 3240 example is 0.7296296296296296\\n\",\n",
       " \"('obj_rel_no_comp_across_inanim.pickle', 'plur_IS_IV_plur_ES_EV').pklAccuracy on 2520 example is 0.796031746031746\\n\",\n",
       " \"('reflexives_across.pickle', 'plur_MS_ANPHR_sing_ES_EV').pklAccuracy on 1728 example is 0.4525462962962963\\n\",\n",
       " \"('sent_comp.pickle', 'plur_MS_MV_sing_BS').pklAccuracy on 0 example is nan\\n\",\n",
       " \"('obj_rel_no_comp_across_anim.pickle', 'plur_MS_MV_plur_ES_EV').pklAccuracy on 1512 example is 0.7552910052910053\\n\",\n",
       " \"('obj_rel_across_inanim.pickle', 'sing_IS_IV_plur_ES_EV').pklAccuracy on 2520 example is 0.16031746031746033\\n\",\n",
       " \"('sent_comp.pickle', 'sing_MS_MV_plur_BS').pklAccuracy on 270 example is 0.3074074074074074\\n\",\n",
       " \"('reflexive_sent_comp.pickle', 'plur_MS_ANPHR_sing_BS').pklAccuracy on 0 example is nan\\n\",\n",
       " \"('obj_rel_within_inanim.pickle', 'sing_ES_EV_plur_IS_IV').pklAccuracy on 3240 example is 0.4700617283950617\\n\",\n",
       " \"('reflexive_sent_comp.pickle', 'sing_MS_ANPHR_sing_BS').pklAccuracy on 0 example is nan\\n\",\n",
       " \"('long_vp_coord.pickle', 'sing_MS_LMV_LMV').pklAccuracy on 400 example is 0.515\\n\",\n",
       " \"('obj_rel_no_comp_within_anim.pickle', 'sing_ES_EV_sing_MS_MV').pklAccuracy on 2160 example is 0.7416666666666667\\n\",\n",
       " \"('obj_rel_no_comp_within_anim.pickle', 'plur_ES_EV_plur_MS_MV').pklAccuracy on 1680 example is 0.4928571428571429\\n\",\n",
       " \"('obj_rel_no_comp_across_inanim.pickle', 'sing_IS_IV_plur_ES_EV').pklAccuracy on 2520 example is 0.17777777777777778\\n\",\n",
       " \"('vp_coord.pickle', 'plur_MS_MV_MV').pklAccuracy on 288 example is 0.6076388888888888\\n\",\n",
       " \"('vp_coord.pickle', 'sing_MS_MV_MV').pklAccuracy on 280 example is 0.3678571428571429\\n\",\n",
       " \"('reflexives_across.pickle', 'sing_MS_ANPHR_plur_ES_EV').pklAccuracy on 1680 example is 0.5488095238095239\\n\",\n",
       " \"('obj_rel_no_comp_within_inanim.pickle', 'plur_ES_EV_sing_IS_IV').pklAccuracy on 2520 example is 0.26031746031746034\\n\",\n",
       " \"('subj_rel.pickle', 'sing_MS_EV_MV_plur_ES').pklAccuracy on 1890 example is 0.19788359788359788\\n\",\n",
       " \"('obj_rel_no_comp_within_anim.pickle', 'sing_ES_EV_plur_MS_MV').pklAccuracy on 2160 example is 0.5018518518518519\\n\",\n",
       " \"('obj_rel_within_anim.pickle', 'plur_ES_EV_sing_MS_MV').pklAccuracy on 1680 example is 0.20535714285714285\\n\",\n",
       " \"('long_vp_coord.pickle', 'plur_MS_LMV_LMV').pklAccuracy on 320 example is 0.4875\\n\"]"
      ]
     },
     "execution_count": 4,
     "metadata": {},
     "output_type": "execute_result"
    }
   ],
   "source": [
    "with open(filename) as file:\n",
    "    lines = file.readlines()\n",
    "lines"
   ]
  },
  {
   "cell_type": "code",
   "execution_count": 5,
   "metadata": {},
   "outputs": [],
   "source": [
    "result_dict ={}\n",
    "for line in lines:\n",
    "    a = line.split()\n",
    "    if a[-1]==\"nan\":\n",
    "        continue\n",
    "    key = a[0].split(\"'\")[1].split(\".pi\")[0].split(\"_ani\")[0]\n",
    "    key = key.split(\"_ina\")[0]\n",
    "#     key = a[0].split(\"'\")[1].split(\".pi\")[0]\n",
    "    if not key in result_dict.keys():\n",
    "        result_dict[key] = (int(a[3]), float(\"{0:.2f}\".format(float(a[-1]))))\n",
    "    else:        \n",
    "        tot, acc = result_dict[key]\n",
    "        tot_ = tot+int(a[3])\n",
    "        acc_ = (int(a[3])*float(\"{0:.2f}\".format(float(a[-1]))) + tot*acc)/tot_\n",
    "        result_dict[key] = (tot_, acc_)  \n"
   ]
  },
  {
   "cell_type": "code",
   "execution_count": 6,
   "metadata": {},
   "outputs": [
    {
     "name": "stdout",
     "output_type": "stream",
     "text": [
      "obj_rel_no_comp_across (19296, 0.47178171641791045)\n",
      "subj_rel (7776, 0.41854166666666665)\n",
      "obj_rel_within (19200, 0.5015624999999999)\n",
      "reflexive_sent_comp (432, 0.5211111111111111)\n",
      "sent_comp (486, 0.41222222222222227)\n",
      "simple_reflexives (144, 0.5255555555555556)\n",
      "reflexives_across (6912, 0.5055555555555556)\n",
      "prep (23232, 0.45326962809917365)\n",
      "obj_rel_no_comp_within (19200, 0.504625)\n",
      "obj_rel_across (19296, 0.48282649253731347)\n",
      "simple_agrmt (162, 0.3688888888888889)\n",
      "long_vp_coord (720, 0.5066666666666667)\n",
      "vp_coord (568, 0.4916901408450704)\n"
     ]
    }
   ],
   "source": [
    "for key in result_dict.keys():\n",
    "    print(key + \" \"+str(result_dict[key]))"
   ]
  },
  {
   "cell_type": "code",
   "execution_count": 37,
   "metadata": {},
   "outputs": [],
   "source": [
    "a = "
   ]
  },
  {
   "cell_type": "code",
   "execution_count": 38,
   "metadata": {},
   "outputs": [
    {
     "data": {
      "text/plain": [
       "13.95"
      ]
     },
     "execution_count": 38,
     "metadata": {},
     "output_type": "execute_result"
    }
   ],
   "source": [
    "a"
   ]
  },
  {
   "cell_type": "code",
   "execution_count": null,
   "metadata": {},
   "outputs": [],
   "source": []
  }
 ],
 "metadata": {
  "kernelspec": {
   "display_name": "Python 3",
   "language": "python",
   "name": "python3"
  },
  "language_info": {
   "codemirror_mode": {
    "name": "ipython",
    "version": 3
   },
   "file_extension": ".py",
   "mimetype": "text/x-python",
   "name": "python",
   "nbconvert_exporter": "python",
   "pygments_lexer": "ipython3",
   "version": "3.7.3"
  }
 },
 "nbformat": 4,
 "nbformat_minor": 2
}
